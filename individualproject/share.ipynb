{
 "cells": [
  {
   "cell_type": "code",
   "execution_count": 42,
   "metadata": {},
   "outputs": [],
   "source": [
    "import pandas as pd \n",
    "import numpy as np \n",
    "import os\n",
    "from sklearn.base import BaseEstimator,TransformerMixin\n",
    "from sklearn.preprocessing import OneHotEncoder\n",
    "from sklearn.preprocessing import StandardScaler\n",
    "from sklearn.pipeline import Pipeline\n",
    "from sklearn.impute import SimpleImputer\n",
    "from sklearn.impute import KNNImputer\n",
    "from sklearn.decomposition import PCA\n",
    "from sklearn.metrics import roc_auc_score\n",
    "from sklearn.ensemble import RandomForestClassifier\n",
    "from sklearn.linear_model import LogisticRegression\n",
    "from sklearn.neural_network import MLPClassifier\n",
    "from sklearn.model_selection import GridSearchCV\n",
    "from sklearn.ensemble import RandomForestClassifier\n",
    "from sklearn.model_selection import StratifiedShuffleSplit\n",
    "import seaborn as sns \n",
    "from sklearn.ensemble import VotingClassifier\n",
    "from sklearn.model_selection import cross_validate\n",
    "%matplotlib inline\n",
    "\n",
    "import warnings\n",
    "warnings.filterwarnings(\"ignore\")"
   ]
  },
  {
   "cell_type": "code",
   "execution_count": 26,
   "metadata": {},
   "outputs": [
    {
     "name": "stdout",
     "output_type": "stream",
     "text": [
      "shape of strat train (20996, 20)\n",
      "shape of strat test (5250, 20)\n"
     ]
    }
   ],
   "source": [
    "train=pd.read_csv('./data/bank_marketing_train.csv')\n",
    "train['y'].value_counts()/len(train)\n",
    "### distribution of y is No:0.88, Yes:0.11\n",
    "split = StratifiedShuffleSplit(n_splits=1, test_size=0.2, random_state=42)\n",
    "for train_index, test_index in split.split(train, train[\"y\"]):\n",
    "    strat_train_set = train.loc[train_index]\n",
    "    strat_test_set = train.loc[test_index]\n",
    "print('shape of strat train',strat_train_set.shape)\n",
    "print('shape of strat test',strat_test_set.shape)\n",
    "strat_train_set.to_csv('./data/strat_train_set.csv',index=False)\n",
    "strat_test_set.to_csv('./data/strat_test_set.csv',index=False)"
   ]
  },
  {
   "cell_type": "code",
   "execution_count": 27,
   "metadata": {},
   "outputs": [],
   "source": [
    "class campaign_age_unknown_trans(BaseEstimator,TransformerMixin):\n",
    "    def fit(self,df,y=None):\n",
    "        return self\n",
    "    def transform(self,df):\n",
    "        df=df.replace(to_replace={\"unknown\":np.nan})\n",
    "        df.loc[(df['age']<0)|(df['age']>100),'age'] =  np.nan\n",
    "        df['marital'] = df['marital'].replace(to_replace={\"sungle\":\"single\"})\n",
    "        df.loc[(df['pdays'] ==999) & (df['poutcome'] !='nonexistent'),'pdays'] = np.nan\n",
    "        q1,q3 = df['campaign'].quantile([0.25,0.75])\n",
    "        lower = q1 - 3*(q3-q1)\n",
    "        upper = q3 + 3*(q3-q1)\n",
    "        df.loc[(df['campaign']<lower)|(df['campaign']>upper),'campaign'] = np.nan\n",
    "        df.set_index('previous',inplace=True)\n",
    "        df['campaign'] = df['campaign'].interpolate('linear')\n",
    "        df.reset_index(inplace=True)\n",
    "        df = df.assign(contacts_daily=(df['campaign']/(df['pdays']+1)).values)\n",
    "        df[(df['age']>=60)&(pd.isnull(df.job))]['job']='retired'\n",
    "        return df\n",
    "\n",
    "class assign_educ_job_marital(BaseEstimator,TransformerMixin):\n",
    "    def fit(self,df,y=None):\n",
    "        return self \n",
    "    def transform(self,df):\n",
    "        imp=SimpleImputer(strategy='most_frequent')\n",
    "        df[['job']]=imp.fit_transform(df[['job']])\n",
    "        df[['education']]=imp.fit_transform(df[['education']])\n",
    "        df[['loan']]=imp.fit_transform(df[['loan']])\n",
    "        df[['housing']]=imp.fit_transform(df[['housing']])\n",
    "        return df\n",
    "\n",
    "class fix_imbalance(BaseEstimator,TransformerMixin):\n",
    "    def fit(self,df,y=None):\n",
    "        return self \n",
    "    def transform(self,df):\n",
    "        self.class_priors_pos = (df['y']  == 'yes').sum()\n",
    "        self.class_priors_neg = (df['y']  == 'no').sum()\n",
    "        self.df_pos = df[df['y'] == 'yes']\n",
    "        self.df_neg = df[df['y']  == 'no']\n",
    "        self.df_pos_over = self.df_pos.sample(int(0.5*self.class_priors_neg), replace=True)\n",
    "        df = pd.concat([self.df_pos_over,self.df_neg])\n",
    "        return df"
   ]
  },
  {
   "cell_type": "code",
   "execution_count": 28,
   "metadata": {},
   "outputs": [
    {
     "name": "stderr",
     "output_type": "stream",
     "text": [
      "/Users/zhangdi/ACT4311/act/lib/python3.7/site-packages/ipykernel_launcher.py:17: SettingWithCopyWarning: \n",
      "A value is trying to be set on a copy of a slice from a DataFrame.\n",
      "Try using .loc[row_indexer,col_indexer] = value instead\n",
      "\n",
      "See the caveats in the documentation: https://pandas.pydata.org/pandas-docs/stable/user_guide/indexing.html#returning-a-view-versus-a-copy\n",
      "/Users/zhangdi/ACT4311/act/lib/python3.7/site-packages/ipykernel_launcher.py:17: SettingWithCopyWarning: \n",
      "A value is trying to be set on a copy of a slice from a DataFrame.\n",
      "Try using .loc[row_indexer,col_indexer] = value instead\n",
      "\n",
      "See the caveats in the documentation: https://pandas.pydata.org/pandas-docs/stable/user_guide/indexing.html#returning-a-view-versus-a-copy\n"
     ]
    }
   ],
   "source": [
    "handle_pipeline = Pipeline([\n",
    "        ('step1', campaign_age_unknown_trans()),\n",
    "        ('step2', assign_educ_job_marital()),\n",
    "        ('step3', fix_imbalance()),\n",
    "    ])\n",
    "handle_pipeline_test = Pipeline([\n",
    "        ('step1', campaign_age_unknown_trans()),\n",
    "        ('step2', assign_educ_job_marital()),\n",
    "    ])\n",
    "\n",
    "strat_train_set=pd.read_csv('/Users/zhangdi/ACT4311/individualproject/data/strat_train_set.csv',index_col=False)\n",
    "strat_test_set=pd.read_csv('/Users/zhangdi/ACT4311/individualproject/data/strat_test_set.csv',index_col=False)\n",
    "\n",
    "train=handle_pipeline.fit_transform(strat_train_set)\n",
    "test=handle_pipeline_test.fit_transform(strat_test_set)"
   ]
  },
  {
   "cell_type": "code",
   "execution_count": 29,
   "metadata": {},
   "outputs": [],
   "source": [
    "# train['age']=pd.cut(train['age'],bins=np.linspace(15,100,num=18))\n",
    "# test['age']=pd.cut(test['age'],bins=np.linspace(15,100,num=18))\n",
    "num_list=['age','campaign','pdays','previous','emp.var.rate','cons.price.idx','cons.conf.idx','euribor3m','nr.employed','contacts_daily']\n",
    "train_num_group=train[num_list]\n",
    "test_num_group=test[num_list]\n",
    "num_imp=SimpleImputer(strategy='mean')\n",
    "train_num_group=num_imp.fit_transform(train_num_group)\n",
    "test_num_group=num_imp.fit_transform(test_num_group)\n",
    "std_=StandardScaler()\n",
    "train_num_group=std_.fit_transform(train_num_group)\n",
    "test_num_group=std_.fit_transform(test_num_group)"
   ]
  },
  {
   "cell_type": "code",
   "execution_count": 30,
   "metadata": {},
   "outputs": [],
   "source": [
    "train['y']=train['y'].replace({'yes':True,'no':False})\n",
    "test['y']=test['y'].replace({'yes':True,'no':False})"
   ]
  },
  {
   "cell_type": "code",
   "execution_count": 31,
   "metadata": {},
   "outputs": [],
   "source": [
    "train=train.drop(num_list,axis=1)\n",
    "test=test.drop(num_list,axis=1)"
   ]
  },
  {
   "cell_type": "code",
   "execution_count": 32,
   "metadata": {},
   "outputs": [],
   "source": [
    "one_hot_groupname=['marital','day_of_week']\n",
    "one_hot_train=train[one_hot_groupname]\n",
    "one_hot_test=test[one_hot_groupname]\n",
    "train=train.drop(one_hot_groupname,axis=1)\n",
    "test=test.drop(one_hot_groupname,axis=1)\n",
    "imp=SimpleImputer(strategy='most_frequent')\n",
    "one_hot_train=imp.fit_transform(one_hot_train)\n",
    "one_hot_test=imp.transform(one_hot_test)\n",
    "one_hot=OneHotEncoder(handle_unknown='ignore')\n",
    "one_hot_train=one_hot.fit_transform(one_hot_train)\n",
    "one_hot_train=one_hot_train.toarray()\n",
    "one_hot_test=one_hot.transform(one_hot_test)\n",
    "one_hot_test=one_hot_test.toarray()"
   ]
  },
  {
   "cell_type": "code",
   "execution_count": 33,
   "metadata": {},
   "outputs": [],
   "source": [
    "encoder_columns=list(train.columns)\n",
    "encoder_columns=encoder_columns[:-1]\n",
    "for col_name in encoder_columns:\n",
    "    df_change=train[[col_name,'y']]\n",
    "    df_change=df_change.groupby(col_name).mean().sort_values('y').reset_index()\n",
    "    num=1\n",
    "    match_dict=dict()\n",
    "    for i in df_change.iloc[:,0]:\n",
    "        match_dict[i]=num\n",
    "        num+=1\n",
    "        train[col_name]=train[col_name].replace(match_dict)\n",
    "        test[col_name]=test[col_name].replace(match_dict)"
   ]
  },
  {
   "cell_type": "code",
   "execution_count": 34,
   "metadata": {},
   "outputs": [],
   "source": [
    "train_label=train['y']\n",
    "test_label=test['y']\n",
    "train=train.drop('y',axis=1)\n",
    "test=test.drop('y',axis=1)\n",
    "train_data=np.concatenate([train_num_group,one_hot_train,train.values],axis=1)\n",
    "test_data=np.concatenate([test_num_group,one_hot_test,test.values],axis=1)\n",
    "knn_imp=KNNImputer(n_neighbors=200)\n",
    "train_data=knn_imp.fit_transform(train_data)\n",
    "test_data=knn_imp.transform(test_data)"
   ]
  },
  {
   "cell_type": "code",
   "execution_count": 45,
   "metadata": {},
   "outputs": [
    {
     "name": "stdout",
     "output_type": "stream",
     "text": [
      "Select best Logistic Regression model with C = 1 with best_score=0.7914831794158763\n"
     ]
    }
   ],
   "source": [
    "clf = LogisticRegression()\n",
    "best_clf = GridSearchCV(clf,scoring='roc_auc',cv=5,n_jobs=-1,\n",
    "                        param_grid={'C': [0.001,0.01,0.1,1,10,100]})\n",
    "best_clf.fit(train_data,train_label)\n",
    "print(\"Select best Logistic Regression model with C = {} with best_score={}\".format(\n",
    "    best_clf.best_params_['C'],\n",
    "    best_clf.best_score_))"
   ]
  },
  {
   "cell_type": "code",
   "execution_count": 37,
   "metadata": {},
   "outputs": [
    {
     "name": "stdout",
     "output_type": "stream",
     "text": [
      "The avarage AUC_ROC of the best logistic regression with 0.001 from 5-fold CV on test data is 0.7226119508463866\n",
      "The avarage AUC_ROC of the best logistic regression with 0.01 from 5-fold CV on test data is 0.7211995743124148\n",
      "The avarage AUC_ROC of the best logistic regression with 0.1 from 5-fold CV on test data is 0.7208306312148725\n",
      "The avarage AUC_ROC of the best logistic regression with 1 from 5-fold CV on test data is 0.7194442365891782\n",
      "The avarage AUC_ROC of the best logistic regression with 10 from 5-fold CV on test data is 0.7195523213276132\n",
      "The avarage AUC_ROC of the best logistic regression with 100 from 5-fold CV on test data is 0.7195523213276132\n"
     ]
    }
   ],
   "source": [
    "for c in  [0.001,0.01,0.1,1,10,100]:\n",
    "    test_clf=LogisticRegression(C=c,max_iter=500)\n",
    "    test_clf.fit(train_data,train_label)\n",
    "    print(\"The avarage AUC_ROC of the best logistic regression with {} from 5-fold CV on test data is\".format(c),\n",
    "        roc_auc_score(test_label.tolist(),test_clf.predict(test_data).tolist()))"
   ]
  },
  {
   "cell_type": "code",
   "execution_count": 46,
   "metadata": {},
   "outputs": [
    {
     "name": "stdout",
     "output_type": "stream",
     "text": [
      "Select best neural network model with alpha = 0.05 with best_score=0.8132290150499811\n"
     ]
    }
   ],
   "source": [
    "clf=MLPClassifier(hidden_layer_sizes=(30,10),random_state=42,activation='logistic')\n",
    "best_clf = GridSearchCV(clf,scoring='roc_auc',cv=5,n_jobs=-1,\n",
    "                        param_grid={'alpha': [0.05,0.08,0.1,0.12]})\n",
    "best_clf.fit(train_data,train_label)\n",
    "print(\"Select best neural network model with alpha = {} with best_score={}\".format(\n",
    "    best_clf.best_params_['alpha'],\n",
    "    best_clf.best_score_))"
   ]
  },
  {
   "cell_type": "code",
   "execution_count": 40,
   "metadata": {},
   "outputs": [
    {
     "name": "stdout",
     "output_type": "stream",
     "text": [
      "The avarage AUC_ROC of the best nn and lay=(40, 20), alpha=0.001 from 5-fold CV on test data is 0.6736246217034154\n",
      "The avarage AUC_ROC of the best nn and lay=(40, 20), alpha=0.05 from 5-fold CV on test data is 0.7325557467824004\n",
      "The avarage AUC_ROC of the best nn and lay=(40, 20), alpha=0.08 from 5-fold CV on test data is 0.7338226246300177\n",
      "The avarage AUC_ROC of the best nn and lay=(40, 20), alpha=0.1 from 5-fold CV on test data is 0.7326711064551532\n",
      "The avarage AUC_ROC of the best nn and lay=(40, 20), alpha=0.12 from 5-fold CV on test data is 0.7339941052246499\n",
      "The avarage AUC_ROC of the best nn and lay=(40, 20), alpha=0.5 from 5-fold CV on test data is 0.7253847400977751\n",
      "The avarage AUC_ROC of the best nn and lay=(40, 20), alpha=1 from 5-fold CV on test data is 0.7230889786823639\n"
     ]
    },
    {
     "name": "stderr",
     "output_type": "stream",
     "text": [
      "/Users/zhangdi/ACT4311/act/lib/python3.7/site-packages/sklearn/neural_network/_multilayer_perceptron.py:571: ConvergenceWarning: Stochastic Optimizer: Maximum iterations (500) reached and the optimization hasn't converged yet.\n",
      "  % self.max_iter, ConvergenceWarning)\n"
     ]
    },
    {
     "name": "stdout",
     "output_type": "stream",
     "text": [
      "The avarage AUC_ROC of the best nn and lay=(50, 20), alpha=0.001 from 5-fold CV on test data is 0.6223020386444511\n",
      "The avarage AUC_ROC of the best nn and lay=(50, 20), alpha=0.05 from 5-fold CV on test data is 0.7235628886893479\n",
      "The avarage AUC_ROC of the best nn and lay=(50, 20), alpha=0.08 from 5-fold CV on test data is 0.7309084937975989\n",
      "The avarage AUC_ROC of the best nn and lay=(50, 20), alpha=0.1 from 5-fold CV on test data is 0.7315642771625261\n",
      "The avarage AUC_ROC of the best nn and lay=(50, 20), alpha=0.12 from 5-fold CV on test data is 0.732887275932023\n",
      "The avarage AUC_ROC of the best nn and lay=(50, 20), alpha=0.5 from 5-fold CV on test data is 0.7238642788253683\n",
      "The avarage AUC_ROC of the best nn and lay=(50, 20), alpha=1 from 5-fold CV on test data is 0.7209834048355449\n"
     ]
    },
    {
     "name": "stderr",
     "output_type": "stream",
     "text": [
      "/Users/zhangdi/ACT4311/act/lib/python3.7/site-packages/sklearn/neural_network/_multilayer_perceptron.py:571: ConvergenceWarning: Stochastic Optimizer: Maximum iterations (500) reached and the optimization hasn't converged yet.\n",
      "  % self.max_iter, ConvergenceWarning)\n"
     ]
    },
    {
     "name": "stdout",
     "output_type": "stream",
     "text": [
      "The avarage AUC_ROC of the best nn and lay=(45, 15), alpha=0.001 from 5-fold CV on test data is 0.6432611244138482\n",
      "The avarage AUC_ROC of the best nn and lay=(45, 15), alpha=0.05 from 5-fold CV on test data is 0.7278114503309056\n",
      "The avarage AUC_ROC of the best nn and lay=(45, 15), alpha=0.08 from 5-fold CV on test data is 0.7316536549270012\n",
      "The avarage AUC_ROC of the best nn and lay=(45, 15), alpha=0.1 from 5-fold CV on test data is 0.7347319914197346\n",
      "The avarage AUC_ROC of the best nn and lay=(45, 15), alpha=0.12 from 5-fold CV on test data is 0.734262238518075\n",
      "The avarage AUC_ROC of the best nn and lay=(45, 15), alpha=0.5 from 5-fold CV on test data is 0.7264021916259271\n",
      "The avarage AUC_ROC of the best nn and lay=(45, 15), alpha=1 from 5-fold CV on test data is 0.7217025840566696\n"
     ]
    }
   ],
   "source": [
    "for lay in [(40,20),(50,20),(45,15)]:\n",
    "    for a in [0.001,0.05,0.08,0.1,0.12,0.5,1]:\n",
    "        nn_clf=MLPClassifier(random_state = 42,activation='logistic',alpha=a,hidden_layer_sizes=lay,max_iter=500)\n",
    "        nn_clf.fit(train_data,train_label)\n",
    "        print(\"The avarage AUC_ROC of the best nn and lay={}, alpha={} from 5-fold CV on test data is\".format(lay,a),\n",
    "            roc_auc_score(test_label.tolist(),nn_clf.predict(test_data).tolist()))"
   ]
  },
  {
   "cell_type": "code",
   "execution_count": 43,
   "metadata": {},
   "outputs": [],
   "source": [
    "nn_clf_1=MLPClassifier(random_state = 42,activation='logistic',alpha=0.1,hidden_layer_sizes=(50,20))\n",
    "nn_clf_2=MLPClassifier(random_state = 42,activation='logistic',alpha=0.1,hidden_layer_sizes=(40,20))\n",
    "nn_clf_3=MLPClassifier(random_state = 42,activation='logistic',alpha=0.08,hidden_layer_sizes=(40,20))\n",
    "voting_clf=VotingClassifier(estimators=[('nn1',nn_clf_1),('nn2',nn_clf_2),('nn3',nn_clf_3)],voting='soft',weights=[0.33,0.33,0.34])\n",
    "cv_res=cross_validate(voting_clf,train_data,train_label,scoring='roc_auc',cv=5)"
   ]
  },
  {
   "cell_type": "code",
   "execution_count": 44,
   "metadata": {},
   "outputs": [
    {
     "name": "stdout",
     "output_type": "stream",
     "text": [
      "0.8078833775324445\n",
      "0.005109766486203547\n"
     ]
    }
   ],
   "source": [
    "sc=cv_res['test_score']\n",
    "print(np.mean(sc))\n",
    "print(np.std(sc))"
   ]
  },
  {
   "cell_type": "code",
   "execution_count": null,
   "metadata": {},
   "outputs": [],
   "source": []
  }
 ],
 "metadata": {
  "kernelspec": {
   "display_name": "act",
   "language": "python",
   "name": "act"
  },
  "language_info": {
   "codemirror_mode": {
    "name": "ipython",
    "version": 3
   },
   "file_extension": ".py",
   "mimetype": "text/x-python",
   "name": "python",
   "nbconvert_exporter": "python",
   "pygments_lexer": "ipython3",
   "version": "3.7.4"
  }
 },
 "nbformat": 4,
 "nbformat_minor": 2
}
