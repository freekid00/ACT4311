{
 "cells": [
  {
   "cell_type": "code",
   "execution_count": 1,
   "metadata": {},
   "outputs": [],
   "source": [
    "import pandas as pd \n",
    "import numpy as np \n",
    "import matplotlib as mpl \n",
    "import matplotlib.pyplot as plt \n",
    "from sklearn.preprocessing import StandardScaler\n",
    "from sklearn.impute import SimpleImputer\n",
    "from sklearn.linear_model import LogisticRegression\n",
    "from sklearn.neural_network import MLPClassifier\n",
    "from sklearn.ensemble import RandomForestClassifier\n",
    "from sklearn.model_selection import GridSearchCV, learning_curve, cross_val_predict\n",
    "from sklearn.metrics import precision_recall_curve"
   ]
  },
  {
   "cell_type": "code",
   "execution_count": 3,
   "metadata": {},
   "outputs": [
    {
     "data": {
      "text/html": [
       "<div>\n",
       "<style scoped>\n",
       "    .dataframe tbody tr th:only-of-type {\n",
       "        vertical-align: middle;\n",
       "    }\n",
       "\n",
       "    .dataframe tbody tr th {\n",
       "        vertical-align: top;\n",
       "    }\n",
       "\n",
       "    .dataframe thead th {\n",
       "        text-align: right;\n",
       "    }\n",
       "</style>\n",
       "<table border=\"1\" class=\"dataframe\">\n",
       "  <thead>\n",
       "    <tr style=\"text-align: right;\">\n",
       "      <th></th>\n",
       "      <th>NumberOfTime30-59DaysPastDueNotWorse</th>\n",
       "      <th>NumberOfOpenCreditLinesAndLoans</th>\n",
       "      <th>NumberOfTimes90DaysLate</th>\n",
       "      <th>NumberRealEstateLoansOrLines</th>\n",
       "      <th>NumberOfTime60-89DaysPastDueNotWorse</th>\n",
       "      <th>NumberOfDependents</th>\n",
       "      <th>1</th>\n",
       "      <th>RevolvingUtilizationOfUnsecuredLines</th>\n",
       "      <th>DebtRatio</th>\n",
       "      <th>MonthlyIncome</th>\n",
       "      <th>...</th>\n",
       "      <th>DebtRatio^3</th>\n",
       "      <th>DebtRatio^2 MonthlyIncome</th>\n",
       "      <th>DebtRatio^2 age</th>\n",
       "      <th>DebtRatio MonthlyIncome^2</th>\n",
       "      <th>DebtRatio MonthlyIncome age</th>\n",
       "      <th>DebtRatio age^2</th>\n",
       "      <th>MonthlyIncome^3</th>\n",
       "      <th>MonthlyIncome^2 age</th>\n",
       "      <th>MonthlyIncome age^2</th>\n",
       "      <th>age^3</th>\n",
       "    </tr>\n",
       "  </thead>\n",
       "  <tbody>\n",
       "    <tr>\n",
       "      <th>0</th>\n",
       "      <td>2.0</td>\n",
       "      <td>13.0</td>\n",
       "      <td>0.0</td>\n",
       "      <td>6.0</td>\n",
       "      <td>0.0</td>\n",
       "      <td>2.0</td>\n",
       "      <td>1.0</td>\n",
       "      <td>0.766127</td>\n",
       "      <td>0.802982</td>\n",
       "      <td>9120.000000</td>\n",
       "      <td>...</td>\n",
       "      <td>0.517747</td>\n",
       "      <td>5880.396331</td>\n",
       "      <td>29.015113</td>\n",
       "      <td>6.678756e+07</td>\n",
       "      <td>329543.865742</td>\n",
       "      <td>1626.038811</td>\n",
       "      <td>7.585505e+11</td>\n",
       "      <td>3.742848e+09</td>\n",
       "      <td>1.846800e+07</td>\n",
       "      <td>91125.0</td>\n",
       "    </tr>\n",
       "    <tr>\n",
       "      <th>1</th>\n",
       "      <td>0.0</td>\n",
       "      <td>4.0</td>\n",
       "      <td>0.0</td>\n",
       "      <td>0.0</td>\n",
       "      <td>0.0</td>\n",
       "      <td>1.0</td>\n",
       "      <td>1.0</td>\n",
       "      <td>0.957151</td>\n",
       "      <td>0.121876</td>\n",
       "      <td>2600.000000</td>\n",
       "      <td>...</td>\n",
       "      <td>0.001810</td>\n",
       "      <td>38.619902</td>\n",
       "      <td>0.594152</td>\n",
       "      <td>8.238831e+05</td>\n",
       "      <td>12675.124904</td>\n",
       "      <td>195.001922</td>\n",
       "      <td>1.757600e+10</td>\n",
       "      <td>2.704000e+08</td>\n",
       "      <td>4.160000e+06</td>\n",
       "      <td>64000.0</td>\n",
       "    </tr>\n",
       "    <tr>\n",
       "      <th>2</th>\n",
       "      <td>1.0</td>\n",
       "      <td>2.0</td>\n",
       "      <td>1.0</td>\n",
       "      <td>0.0</td>\n",
       "      <td>0.0</td>\n",
       "      <td>0.0</td>\n",
       "      <td>1.0</td>\n",
       "      <td>0.658180</td>\n",
       "      <td>0.085113</td>\n",
       "      <td>3042.000000</td>\n",
       "      <td>...</td>\n",
       "      <td>0.000617</td>\n",
       "      <td>22.037120</td>\n",
       "      <td>0.275283</td>\n",
       "      <td>7.876191e+05</td>\n",
       "      <td>9838.765697</td>\n",
       "      <td>122.903713</td>\n",
       "      <td>2.814995e+10</td>\n",
       "      <td>3.516430e+08</td>\n",
       "      <td>4.392648e+06</td>\n",
       "      <td>54872.0</td>\n",
       "    </tr>\n",
       "    <tr>\n",
       "      <th>3</th>\n",
       "      <td>0.0</td>\n",
       "      <td>5.0</td>\n",
       "      <td>0.0</td>\n",
       "      <td>0.0</td>\n",
       "      <td>0.0</td>\n",
       "      <td>0.0</td>\n",
       "      <td>1.0</td>\n",
       "      <td>0.233810</td>\n",
       "      <td>0.036050</td>\n",
       "      <td>3300.000000</td>\n",
       "      <td>...</td>\n",
       "      <td>0.000047</td>\n",
       "      <td>4.288613</td>\n",
       "      <td>0.038987</td>\n",
       "      <td>3.925810e+05</td>\n",
       "      <td>3568.918518</td>\n",
       "      <td>32.444714</td>\n",
       "      <td>3.593700e+10</td>\n",
       "      <td>3.267000e+08</td>\n",
       "      <td>2.970000e+06</td>\n",
       "      <td>27000.0</td>\n",
       "    </tr>\n",
       "    <tr>\n",
       "      <th>4</th>\n",
       "      <td>1.0</td>\n",
       "      <td>7.0</td>\n",
       "      <td>0.0</td>\n",
       "      <td>1.0</td>\n",
       "      <td>0.0</td>\n",
       "      <td>0.0</td>\n",
       "      <td>1.0</td>\n",
       "      <td>0.907239</td>\n",
       "      <td>0.024926</td>\n",
       "      <td>6107.322992</td>\n",
       "      <td>...</td>\n",
       "      <td>0.000015</td>\n",
       "      <td>3.794420</td>\n",
       "      <td>0.030443</td>\n",
       "      <td>9.297133e+05</td>\n",
       "      <td>7459.234238</td>\n",
       "      <td>59.846594</td>\n",
       "      <td>2.277994e+11</td>\n",
       "      <td>1.827670e+09</td>\n",
       "      <td>1.466368e+07</td>\n",
       "      <td>117649.0</td>\n",
       "    </tr>\n",
       "  </tbody>\n",
       "</table>\n",
       "<p>5 rows × 41 columns</p>\n",
       "</div>"
      ],
      "text/plain": [
       "   NumberOfTime30-59DaysPastDueNotWorse  NumberOfOpenCreditLinesAndLoans  \\\n",
       "0                                   2.0                             13.0   \n",
       "1                                   0.0                              4.0   \n",
       "2                                   1.0                              2.0   \n",
       "3                                   0.0                              5.0   \n",
       "4                                   1.0                              7.0   \n",
       "\n",
       "   NumberOfTimes90DaysLate  NumberRealEstateLoansOrLines  \\\n",
       "0                      0.0                           6.0   \n",
       "1                      0.0                           0.0   \n",
       "2                      1.0                           0.0   \n",
       "3                      0.0                           0.0   \n",
       "4                      0.0                           1.0   \n",
       "\n",
       "   NumberOfTime60-89DaysPastDueNotWorse  NumberOfDependents    1  \\\n",
       "0                                   0.0                 2.0  1.0   \n",
       "1                                   0.0                 1.0  1.0   \n",
       "2                                   0.0                 0.0  1.0   \n",
       "3                                   0.0                 0.0  1.0   \n",
       "4                                   0.0                 0.0  1.0   \n",
       "\n",
       "   RevolvingUtilizationOfUnsecuredLines  DebtRatio  MonthlyIncome  ...  \\\n",
       "0                              0.766127   0.802982    9120.000000  ...   \n",
       "1                              0.957151   0.121876    2600.000000  ...   \n",
       "2                              0.658180   0.085113    3042.000000  ...   \n",
       "3                              0.233810   0.036050    3300.000000  ...   \n",
       "4                              0.907239   0.024926    6107.322992  ...   \n",
       "\n",
       "   DebtRatio^3  DebtRatio^2 MonthlyIncome  DebtRatio^2 age  \\\n",
       "0     0.517747                5880.396331        29.015113   \n",
       "1     0.001810                  38.619902         0.594152   \n",
       "2     0.000617                  22.037120         0.275283   \n",
       "3     0.000047                   4.288613         0.038987   \n",
       "4     0.000015                   3.794420         0.030443   \n",
       "\n",
       "   DebtRatio MonthlyIncome^2  DebtRatio MonthlyIncome age  DebtRatio age^2  \\\n",
       "0               6.678756e+07                329543.865742      1626.038811   \n",
       "1               8.238831e+05                 12675.124904       195.001922   \n",
       "2               7.876191e+05                  9838.765697       122.903713   \n",
       "3               3.925810e+05                  3568.918518        32.444714   \n",
       "4               9.297133e+05                  7459.234238        59.846594   \n",
       "\n",
       "   MonthlyIncome^3  MonthlyIncome^2 age  MonthlyIncome age^2     age^3  \n",
       "0     7.585505e+11         3.742848e+09         1.846800e+07   91125.0  \n",
       "1     1.757600e+10         2.704000e+08         4.160000e+06   64000.0  \n",
       "2     2.814995e+10         3.516430e+08         4.392648e+06   54872.0  \n",
       "3     3.593700e+10         3.267000e+08         2.970000e+06   27000.0  \n",
       "4     2.277994e+11         1.827670e+09         1.466368e+07  117649.0  \n",
       "\n",
       "[5 rows x 41 columns]"
      ]
     },
     "execution_count": 3,
     "metadata": {},
     "output_type": "execute_result"
    }
   ],
   "source": [
    "poly=pd.read_csv('poly_new.csv')\n",
    "y=poly['target']\n",
    "train=poly.drop('target',axis=1)\n",
    "std_=StandardScaler()\n",
    "train_data=std_.fit_transform(train)\n",
    "train.head()"
   ]
  },
  {
   "cell_type": "code",
   "execution_count": null,
   "metadata": {},
   "outputs": [],
   "source": [
    "rd=RandomForestClassifier(random_state=42,n_jobs=-1,n_estimators=300)\n",
    "rd.fit(train_data,y)\n",
    "columns=list(train)\n",
    "fea_imp=pd.DataFrame({'features':columns,'Feature_importance':rd.feature_importances_})\n",
    "fea_imp=fea_imp.sort_values('Feature_importance',ascending=False).reset_index(drop=True)\n",
    "fea_imp.head(20)"
   ]
  },
  {
   "cell_type": "code",
   "execution_count": null,
   "metadata": {},
   "outputs": [],
   "source": [
    "fe_data=train[list(fea_imp.features)[:20]]\n",
    "fe_data.to_csv('fe_data.csv')"
   ]
  },
  {
   "cell_type": "code",
   "execution_count": null,
   "metadata": {},
   "outputs": [],
   "source": [
    "fe=std_.fit_transform(fe_data)\n",
    "lg=LogisticRegression(random_state=42,solver='newton-cg')\n",
    "best_clf=GridSearchCV(lg,param_grid={'C':[0.001,0.01,0.1,1]},\n",
    "                      n_jobs=-1,scoring='roc_auc')\n",
    "best_clf.fit(fe,y)\n",
    "print(best_clf.best_params_,best_clf.best_score_)"
   ]
  },
  {
   "cell_type": "code",
   "execution_count": null,
   "metadata": {},
   "outputs": [],
   "source": [
    "lg=LogisticRegression(random_state=42)\n",
    "best_clf=GridSearchCV(lg,param_grid={'C':[0.001,0.01,0.1,1]},\n",
    "                      n_jobs=-1,scoring='roc_auc')\n",
    "best_clf.fit(train_data,y)\n",
    "print(best_clf.best_params_,best_clf.best_score_)"
   ]
  },
  {
   "cell_type": "code",
   "execution_count": null,
   "metadata": {},
   "outputs": [],
   "source": [
    "lg=LogisticRegression(random_state=42)\n",
    "train_size,train_score,test_score=learning_curve(lg,train_data,y,train_sizes=np.linspace(0.1,1,20),cv=5,\n",
    "                                                scoring='roc_auc',n_jobs=-1)\n",
    "\n",
    "plt.figure(dpi=300,figsize=(8,4))\n",
    "plt.plot(train_size,np.mean(train_score,axis=1),color='blue',label='train score')\n",
    "plt.plot(train_size,np.mean(test_score,axis=1),color='red',label='test score')\n",
    "plt.legend()\n",
    "plt.title('Learning Curve')"
   ]
  },
  {
   "cell_type": "code",
   "execution_count": null,
   "metadata": {},
   "outputs": [],
   "source": [
    "y_scores = cross_val_predict(lg, train_data, y, cv=3,\n",
    "                             method=\"decision_function\")\n",
    "if y_scores.ndim == 2:\n",
    "    y_scores = y_scores[:, 1]\n",
    "precisions, recalls, thresholds = precision_recall_curve(y, y_scores)\n",
    "def plot_precision_recall_vs_threshold(precisions, recalls, thresholds):\n",
    "    plt.plot(thresholds, precisions[:-1], \"b--\", label=\"Precision\", linewidth=2)\n",
    "    plt.plot(thresholds, recalls[:-1], \"g-\", label=\"Recall\", linewidth=2)\n",
    "    plt.xlabel(\"Threshold\", fontsize=16)\n",
    "    plt.legend(loc=\"upper right\", fontsize=16)\n",
    "    plt.title('Precision and Recall curve under model Logistic Regression')\n",
    "    plt.ylim([0, 1])\n",
    "\n",
    "plt.figure(figsize=(8, 4),dpi=300)\n",
    "plot_precision_recall_vs_threshold(precisions, recalls, thresholds)\n",
    "plt.ylim([0, 1])\n",
    "plt.show()"
   ]
  },
  {
   "cell_type": "code",
   "execution_count": null,
   "metadata": {},
   "outputs": [],
   "source": [
    "rd=RandomForestClassifier(random_state=42,n_estimators=300,n_jobs=-1)\n",
    "y_scores = cross_val_predict(rd, train_data, y, cv=3,\n",
    "                             method=\"predict\")\n",
    "if y_scores.ndim == 2:\n",
    "    y_scores = y_scores[:, 1]\n",
    "precisions, recalls, thresholds = precision_recall_curve(y, y_scores)\n",
    "def plot_precision_recall_vs_threshold(precisions, recalls, thresholds):\n",
    "    plt.plot(thresholds, precisions[:-1], \"b--\", label=\"Precision\", linewidth=2)\n",
    "    plt.plot(thresholds, recalls[:-1], \"g-\", label=\"Recall\", linewidth=2)\n",
    "    plt.xlabel(\"Threshold\", fontsize=16)\n",
    "    plt.legend(loc=\"upper right\", fontsize=16)\n",
    "    plt.title('Precision and Recall curve under model Random Forest')\n",
    "    plt.ylim([0, 1])\n",
    "\n",
    "plt.figure(figsize=(8, 4),dpi=300)\n",
    "plot_precision_recall_vs_threshold(precisions, recalls, thresholds)\n",
    "plt.ylim([0, 1])\n",
    "plt.show()"
   ]
  },
  {
   "cell_type": "code",
   "execution_count": 4,
   "metadata": {},
   "outputs": [],
   "source": [
    "fe_data=pd.read_csv('fe_data.csv',index_col=False)\n",
    "fe_train=fe_data.iloc[0:20000,1:]\n",
    "fe_y=y[:20000]"
   ]
  },
  {
   "cell_type": "code",
   "execution_count": 5,
   "metadata": {},
   "outputs": [
    {
     "name": "stdout",
     "output_type": "stream",
     "text": [
      "(6000, 21)\n",
      "(18716, 21)\n"
     ]
    }
   ],
   "source": [
    "fe_train['y']=fe_y\n",
    "fe_train_pos=fe_train.loc[fe_train.y==1,]\n",
    "fe_train_neg=fe_train.loc[fe_train.y==0,]\n",
    "fe_train_pos=fe_train_pos.sample(6000,replace=True)\n",
    "print(fe_train_pos.shape)\n",
    "print(fe_train_neg.shape)"
   ]
  },
  {
   "cell_type": "code",
   "execution_count": 6,
   "metadata": {},
   "outputs": [
    {
     "name": "stdout",
     "output_type": "stream",
     "text": [
      "(24716, 21)\n",
      "(24716, 20)\n",
      "24716\n"
     ]
    }
   ],
   "source": [
    "fe_train=pd.concat([fe_train_pos,fe_train_neg],axis=0)\n",
    "print(fe_train.shape)\n",
    "y=fe_train['y']\n",
    "fe_train=fe_train.drop('y',axis=1)\n",
    "print(fe_train.shape)\n",
    "print(len(y))\n",
    "std_=StandardScaler()\n",
    "fe_train=std_.fit_transform(fe_train)"
   ]
  },
  {
   "cell_type": "code",
   "execution_count": 16,
   "metadata": {},
   "outputs": [
    {
     "name": "stderr",
     "output_type": "stream",
     "text": [
      "/Users/zhangdi/ACT4311/act/lib/python3.7/site-packages/sklearn/neural_network/_multilayer_perceptron.py:470: ConvergenceWarning: lbfgs failed to converge (status=1):\n",
      "STOP: TOTAL NO. of ITERATIONS REACHED LIMIT.\n",
      "\n",
      "Increase the number of iterations (max_iter) or scale the data as shown in:\n",
      "    https://scikit-learn.org/stable/modules/preprocessing.html\n",
      "  self.n_iter_ = _check_optimize_result(\"lbfgs\", opt_res, self.max_iter)\n"
     ]
    },
    {
     "data": {
      "text/plain": [
       "GridSearchCV(cv=5, error_score=nan,\n",
       "             estimator=MLPClassifier(activation='relu', alpha=0.0001,\n",
       "                                     batch_size='auto', beta_1=0.9,\n",
       "                                     beta_2=0.999, early_stopping=False,\n",
       "                                     epsilon=1e-08, hidden_layer_sizes=(100,),\n",
       "                                     learning_rate='constant',\n",
       "                                     learning_rate_init=0.001, max_fun=15000,\n",
       "                                     max_iter=200, momentum=0.9,\n",
       "                                     n_iter_no_change=10,\n",
       "                                     nesterovs_momentum=True, power_t=0.5,\n",
       "                                     random_state...e,\n",
       "                                     solver='adam', tol=0.0001,\n",
       "                                     validation_fraction=0.1, verbose=False,\n",
       "                                     warm_start=False),\n",
       "             iid='deprecated', n_jobs=-1,\n",
       "             param_grid={'activation': ['logistic', 'tanh', 'relu'],\n",
       "                         'alpha': [0.001, 0.01, 0.1, 1],\n",
       "                         'hidden_layer_sizes': [(50, 20), (40, 30), (100,)],\n",
       "                         'solver': ['lbfgs', 'adam']},\n",
       "             pre_dispatch='2*n_jobs', refit=True, return_train_score=False,\n",
       "             scoring='roc_auc', verbose=0)"
      ]
     },
     "execution_count": 16,
     "metadata": {},
     "output_type": "execute_result"
    }
   ],
   "source": [
    "clf=MLPClassifier(random_state=42)\n",
    "par={'alpha':[0.001,0.01,0.1,1],'activation':['logistic','tanh','relu'],\n",
    "    'solver':['lbfgs','adam'],'hidden_layer_sizes':[(50,20),(40,30),(100,)]}\n",
    "best_clf=GridSearchCV(clf,cv=5,param_grid=par,n_jobs=-1,scoring='roc_auc')\n",
    "best_clf.fit(fe_train,y)\n"
   ]
  },
  {
   "cell_type": "code",
   "execution_count": 19,
   "metadata": {},
   "outputs": [
    {
     "data": {
      "text/plain": [
       "MLPClassifier(activation='tanh', alpha=0.01, batch_size='auto', beta_1=0.9,\n",
       "              beta_2=0.999, early_stopping=False, epsilon=1e-08,\n",
       "              hidden_layer_sizes=(40, 30), learning_rate='constant',\n",
       "              learning_rate_init=0.001, max_fun=15000, max_iter=200,\n",
       "              momentum=0.9, n_iter_no_change=10, nesterovs_momentum=True,\n",
       "              power_t=0.5, random_state=42, shuffle=True, solver='lbfgs',\n",
       "              tol=0.0001, validation_fraction=0.1, verbose=False,\n",
       "              warm_start=False)"
      ]
     },
     "execution_count": 19,
     "metadata": {},
     "output_type": "execute_result"
    }
   ],
   "source": [
    "best_clf.best_estimator_"
   ]
  },
  {
   "cell_type": "code",
   "execution_count": 17,
   "metadata": {},
   "outputs": [
    {
     "data": {
      "text/plain": [
       "0.9261560358895009"
      ]
     },
     "execution_count": 17,
     "metadata": {},
     "output_type": "execute_result"
    }
   ],
   "source": [
    "best_clf.best_score_"
   ]
  },
  {
   "cell_type": "code",
   "execution_count": 18,
   "metadata": {},
   "outputs": [
    {
     "data": {
      "text/plain": [
       "0.8832637962734484"
      ]
     },
     "execution_count": 18,
     "metadata": {},
     "output_type": "execute_result"
    }
   ],
   "source": [
    "np.mean(best_clf.cv_results_['mean_test_score'])"
   ]
  },
  {
   "cell_type": "code",
   "execution_count": 20,
   "metadata": {},
   "outputs": [
    {
     "name": "stderr",
     "output_type": "stream",
     "text": [
      "/Users/zhangdi/ACT4311/act/lib/python3.7/site-packages/sklearn/neural_network/_multilayer_perceptron.py:470: ConvergenceWarning: lbfgs failed to converge (status=1):\n",
      "STOP: TOTAL NO. of ITERATIONS REACHED LIMIT.\n",
      "\n",
      "Increase the number of iterations (max_iter) or scale the data as shown in:\n",
      "    https://scikit-learn.org/stable/modules/preprocessing.html\n",
      "  self.n_iter_ = _check_optimize_result(\"lbfgs\", opt_res, self.max_iter)\n"
     ]
    },
    {
     "data": {
      "text/plain": [
       "MLPClassifier(activation='tanh', alpha=0.01, batch_size='auto', beta_1=0.9,\n",
       "              beta_2=0.999, early_stopping=False, epsilon=1e-08,\n",
       "              hidden_layer_sizes=(40, 30), learning_rate='constant',\n",
       "              learning_rate_init=0.001, max_fun=15000, max_iter=300,\n",
       "              momentum=0.9, n_iter_no_change=10, nesterovs_momentum=True,\n",
       "              power_t=0.5, random_state=42, shuffle=True, solver='lbfgs',\n",
       "              tol=0.0001, validation_fraction=0.1, verbose=False,\n",
       "              warm_start=False)"
      ]
     },
     "execution_count": 20,
     "metadata": {},
     "output_type": "execute_result"
    }
   ],
   "source": [
    "clf=MLPClassifier(random_state=42,alpha=0.01,activation='tanh',\n",
    "                  solver='lbfgs',max_iter=300,hidden_layer_sizes=(40,30))\n",
    "clf.fit(fe_train,y)"
   ]
  },
  {
   "cell_type": "code",
   "execution_count": null,
   "metadata": {},
   "outputs": [],
   "source": []
  }
 ],
 "metadata": {
  "kernelspec": {
   "display_name": "act",
   "language": "python",
   "name": "act"
  },
  "language_info": {
   "codemirror_mode": {
    "name": "ipython",
    "version": 3
   },
   "file_extension": ".py",
   "mimetype": "text/x-python",
   "name": "python",
   "nbconvert_exporter": "python",
   "pygments_lexer": "ipython3",
   "version": "3.7.4"
  }
 },
 "nbformat": 4,
 "nbformat_minor": 2
}
