{
 "cells": [
  {
   "cell_type": "code",
   "execution_count": 14,
   "metadata": {},
   "outputs": [],
   "source": [
    "import pandas as pd \n",
    "import numpy as np \n",
    "from sklearn.preprocessing import StandardScaler\n",
    "from sklearn.ensemble import ExtraTreesRegressor"
   ]
  },
  {
   "cell_type": "code",
   "execution_count": 11,
   "metadata": {},
   "outputs": [],
   "source": [
    "train_x=pd.read_csv('./cleaned_data.csv')\n",
    "train_y=train_x['SeriousDlqin2yrs']\n",
    "train_x=train_x.iloc[:,3:]"
   ]
  },
  {
   "cell_type": "code",
   "execution_count": 15,
   "metadata": {},
   "outputs": [
    {
     "data": {
      "text/html": [
       "<div>\n",
       "<style scoped>\n",
       "    .dataframe tbody tr th:only-of-type {\n",
       "        vertical-align: middle;\n",
       "    }\n",
       "\n",
       "    .dataframe tbody tr th {\n",
       "        vertical-align: top;\n",
       "    }\n",
       "\n",
       "    .dataframe thead th {\n",
       "        text-align: right;\n",
       "    }\n",
       "</style>\n",
       "<table border=\"1\" class=\"dataframe\">\n",
       "  <thead>\n",
       "    <tr style=\"text-align: right;\">\n",
       "      <th></th>\n",
       "      <th>features</th>\n",
       "      <th>importances</th>\n",
       "      <th>imp_std</th>\n",
       "    </tr>\n",
       "  </thead>\n",
       "  <tbody>\n",
       "    <tr>\n",
       "      <th>6</th>\n",
       "      <td>NumberOfTimes90DaysLate</td>\n",
       "      <td>0.174949</td>\n",
       "      <td>0.047771</td>\n",
       "    </tr>\n",
       "    <tr>\n",
       "      <th>0</th>\n",
       "      <td>RevolvingUtilizationOfUnsecuredLines</td>\n",
       "      <td>0.166410</td>\n",
       "      <td>0.028720</td>\n",
       "    </tr>\n",
       "    <tr>\n",
       "      <th>2</th>\n",
       "      <td>NumberOfTime30-59DaysPastDueNotWorse</td>\n",
       "      <td>0.114690</td>\n",
       "      <td>0.030056</td>\n",
       "    </tr>\n",
       "    <tr>\n",
       "      <th>8</th>\n",
       "      <td>NumberOfTime60-89DaysPastDueNotWorse</td>\n",
       "      <td>0.096215</td>\n",
       "      <td>0.031850</td>\n",
       "    </tr>\n",
       "    <tr>\n",
       "      <th>1</th>\n",
       "      <td>age</td>\n",
       "      <td>0.093325</td>\n",
       "      <td>0.006932</td>\n",
       "    </tr>\n",
       "    <tr>\n",
       "      <th>3</th>\n",
       "      <td>DebtRatio</td>\n",
       "      <td>0.084934</td>\n",
       "      <td>0.006384</td>\n",
       "    </tr>\n",
       "    <tr>\n",
       "      <th>4</th>\n",
       "      <td>MonthlyIncome</td>\n",
       "      <td>0.081664</td>\n",
       "      <td>0.005967</td>\n",
       "    </tr>\n",
       "    <tr>\n",
       "      <th>5</th>\n",
       "      <td>NumberOfOpenCreditLinesAndLoans</td>\n",
       "      <td>0.079216</td>\n",
       "      <td>0.005556</td>\n",
       "    </tr>\n",
       "    <tr>\n",
       "      <th>9</th>\n",
       "      <td>NumberOfDependents</td>\n",
       "      <td>0.056328</td>\n",
       "      <td>0.004371</td>\n",
       "    </tr>\n",
       "    <tr>\n",
       "      <th>7</th>\n",
       "      <td>NumberRealEstateLoansOrLines</td>\n",
       "      <td>0.052270</td>\n",
       "      <td>0.003301</td>\n",
       "    </tr>\n",
       "  </tbody>\n",
       "</table>\n",
       "</div>"
      ],
      "text/plain": [
       "                               features  importances   imp_std\n",
       "6               NumberOfTimes90DaysLate     0.174949  0.047771\n",
       "0  RevolvingUtilizationOfUnsecuredLines     0.166410  0.028720\n",
       "2  NumberOfTime30-59DaysPastDueNotWorse     0.114690  0.030056\n",
       "8  NumberOfTime60-89DaysPastDueNotWorse     0.096215  0.031850\n",
       "1                                   age     0.093325  0.006932\n",
       "3                             DebtRatio     0.084934  0.006384\n",
       "4                         MonthlyIncome     0.081664  0.005967\n",
       "5       NumberOfOpenCreditLinesAndLoans     0.079216  0.005556\n",
       "9                    NumberOfDependents     0.056328  0.004371\n",
       "7          NumberRealEstateLoansOrLines     0.052270  0.003301"
      ]
     },
     "execution_count": 15,
     "metadata": {},
     "output_type": "execute_result"
    }
   ],
   "source": [
    "columns=list(train_x.columns)\n",
    "std_=StandardScaler()\n",
    "train_ceshi=std_.fit_transform(train_x)\n",
    "train_ceshi=pd.DataFrame(train_ceshi,columns=columns)\n",
    "model=ExtraTreesRegressor(n_jobs=-1,n_estimators=200,max_depth=20,max_features=0.5,random_state=0)\n",
    "model.fit(train_ceshi,train_y)\n",
    "features=train_x.columns.values\n",
    "importances=model.feature_importances_\n",
    "importance_std=np.std([tree.feature_importances_ for tree in model.estimators_],axis=0)\n",
    "fea_df=pd.DataFrame({'features':features,'importances':importances,'imp_std':importance_std})\n",
    "fea_df.sort_values('importances',ascending=False)"
   ]
  },
  {
   "cell_type": "code",
   "execution_count": null,
   "metadata": {},
   "outputs": [],
   "source": [
    "from sklearn.linear_model import LogisticRegression\n",
    "from sklearn.model_selection import GridSearchCV\n",
    "lg=LogisticRegression(random_state=42,solver='newton-cg')\n",
    "best_clf=GridSearchCV(lg,param_grid={'C':[0.001,0.01,0.1,1]},\n",
    "                      n_jobs=-1,scoring='roc_auc')\n",
    "best_clf.fit(train_ceshi,train_y)\n",
    "print(best_clf.best_params_,best_clf.best_score_)\n",
    "pd.DataFrame(best_clf.cv_results_)"
   ]
  },
  {
   "cell_type": "code",
   "execution_count": null,
   "metadata": {},
   "outputs": [],
   "source": [
    "from sklearn.ensemble import RandomForestClassifier\n",
    "rd=RandomForestClassifier(random_state=42,n_jobs=-1)\n",
    "rd_clf=GridSearchCV(rd,param_grid={'n_estimators':[50,100,200,300]},n_jobs=-1,scoring='roc_auc')\n",
    "rd_clf.fit(train_ceshi,train_y)\n",
    "print(rd_clf.best_params_,rd_clf.best_score_)"
   ]
  },
  {
   "cell_type": "code",
   "execution_count": null,
   "metadata": {},
   "outputs": [],
   "source": [
    "rd=RandomForestClassifier(random_state=42,n_jobs=-1,n_estimators=300)\n",
    "rd.fit(x_ceshi,train_y)\n",
    "fea_imp=pd.DataFrame({'features':columns,'Feature_importance':rd.feature_importances_})\n",
    "fea_imp.sort_values('Feature_importance',ascending=False)"
   ]
  },
  {
   "cell_type": "code",
   "execution_count": null,
   "metadata": {},
   "outputs": [],
   "source": [
    "from lightgbm.sklearn import LGBMClassifier\n",
    "clf = LGBMClassifier(random_state = 50, n_jobs = -1)\n",
    "best_clf = GridSearchCV(clf,scoring='roc_auc',cv=5,n_jobs=-1,\n",
    "                        param_grid={'n_estimators': [50,100,200],\n",
    "                        'reg_lambda':[0.5,1,1.5]})\n",
    "best_clf.fit(x_ceshi,train_y)\n",
    "print(\"Select best LGB model with n_estimators = {} and reg_lambda={} with best_score={}\".format(\n",
    "    best_clf.best_params_['n_estimators'],best_clf.best_params_['reg_lambda'],\n",
    "    best_clf.best_score_))"
   ]
  },
  {
   "cell_type": "code",
   "execution_count": null,
   "metadata": {},
   "outputs": [],
   "source": [
    "poly_set=train_x[['RevolvingUtilizationOfUnsecuredLines','DebtRatio','MonthlyIncome','age']]\n",
    "last_set=train_x.drop(['RevolvingUtilizationOfUnsecuredLines','DebtRatio','MonthlyIncome','age'],axis=1)\n",
    "from sklearn.preprocessing import PolynomialFeatures\n",
    "poly_tr=PolynomialFeatures(degree=3)\n",
    "po_set=poly_tr.fit_transform(poly_set)\n",
    "poly_handle_set=pd.DataFrame(po_set,columns=poly_tr.get_feature_names(['RevolvingUtilizationOfUnsecuredLines','DebtRatio','MonthlyIncome','age']))\n",
    "poly_handle_set.head()"
   ]
  },
  {
   "cell_type": "code",
   "execution_count": null,
   "metadata": {},
   "outputs": [],
   "source": [
    "poly_tr.get_feature_names(['RevolvingUtilizationOfUnsecuredLines','DebtRatio','MonthlyIncome','age'])"
   ]
  },
  {
   "cell_type": "code",
   "execution_count": null,
   "metadata": {},
   "outputs": [],
   "source": [
    "poly_new=pd.concat([last_set,poly_handle_set],axis=1)\n",
    "poly_new.head()"
   ]
  },
  {
   "cell_type": "code",
   "execution_count": null,
   "metadata": {},
   "outputs": [],
   "source": [
    "std_=StandardScaler()\n",
    "train_data=std_.fit_transform(poly_new)\n",
    "rd=RandomForestClassifier(random_state=42,n_jobs=-1,n_estimators=300)\n",
    "rd.fit(train_data,train_y)\n",
    "columns=list(poly_new)\n",
    "fea_imp=pd.DataFrame({'features':columns,'Feature_importance':rd.feature_importances_})\n",
    "fea_imp=fea_imp.sort_values('Feature_importance',ascending=False).reset_index(drop=True)\n",
    "fea_imp.head(20)"
   ]
  },
  {
   "cell_type": "code",
   "execution_count": null,
   "metadata": {},
   "outputs": [],
   "source": [
    "poly_new['target']=train_y.values\n",
    "poly_new.to_csv('poly_new.csv',index=False)"
   ]
  },
  {
   "cell_type": "code",
   "execution_count": null,
   "metadata": {},
   "outputs": [],
   "source": [
    "import pandas as pd \n",
    "import numpy as np \n",
    "import matplotlib as mpl \n",
    "import matplotlib.pyplot as plt \n",
    "from sklearn.preprocessing import StandardScaler\n",
    "from sklearn.impute import SimpleImputer\n",
    "from sklearn.linear_model import LogisticRegression\n",
    "from sklearn.neural_network import MLPClassifier\n",
    "from sklearn.ensemble import RandomForestClassifier,BaggingClassifier\n",
    "from sklearn.model_selection import GridSearchCV, learning_curve, cross_val_predict,cross_validate\n",
    "from sklearn.tree import DecisionTreeClassifier\n",
    "from sklearn.metrics import precision_recall_curve"
   ]
  },
  {
   "cell_type": "code",
   "execution_count": null,
   "metadata": {},
   "outputs": [],
   "source": [
    "poly=pd.read_csv('poly_new.csv')\n",
    "y=poly['target']\n",
    "train=poly.drop('target',axis=1)\n",
    "std_=StandardScaler()\n",
    "train_data=std_.fit_transform(train)\n",
    "train.head()"
   ]
  },
  {
   "cell_type": "code",
   "execution_count": null,
   "metadata": {},
   "outputs": [],
   "source": [
    "clf=DecisionTreeClassifier(random_state=42)\n",
    "cv=cross_validate(clf,train_data,y,scoring='roc_auc',cv=5,n_jobs=-1)"
   ]
  },
  {
   "cell_type": "code",
   "execution_count": null,
   "metadata": {},
   "outputs": [],
   "source": [
    "np.mean(cv['test_score'])"
   ]
  },
  {
   "cell_type": "code",
   "execution_count": null,
   "metadata": {},
   "outputs": [],
   "source": [
    "np.std(cv['test_score'])"
   ]
  },
  {
   "cell_type": "code",
   "execution_count": null,
   "metadata": {},
   "outputs": [],
   "source": [
    "train_new=train_data[:20000,:]\n",
    "y_new=y[:20000]"
   ]
  },
  {
   "cell_type": "code",
   "execution_count": null,
   "metadata": {},
   "outputs": [],
   "source": [
    "scoring=[]\n",
    "std_scoring=[]\n",
    "for num in range(1,30):\n",
    "    clf=BaggingClassifier(base_estimator=DecisionTreeClassifier(),\n",
    "                         n_estimators=num,n_jobs=-1,\n",
    "                         random_state=42)\n",
    "    cv=cross_validate(clf,train_new,y_new,scoring='roc_auc',cv=5,n_jobs=-1)\n",
    "    scoring.append(np.mean(cv['test_score']))\n",
    "    std_scoring.append(np.std(cv['test_score']))"
   ]
  },
  {
   "cell_type": "code",
   "execution_count": null,
   "metadata": {},
   "outputs": [],
   "source": [
    "scoring"
   ]
  },
  {
   "cell_type": "code",
   "execution_count": null,
   "metadata": {},
   "outputs": [],
   "source": [
    "std_scoring"
   ]
  },
  {
   "cell_type": "code",
   "execution_count": null,
   "metadata": {},
   "outputs": [],
   "source": [
    "plt.figure(figsize=(8,4),dpi=300)\n",
    "plt.plot(range(1,30),scoring)\n",
    "plt.xlabel('N_estimators in Ensamble model')\n",
    "plt.ylabel('Roc Auc Score')\n",
    "plt.title('Ensamble Score')\n",
    "plt.show()"
   ]
  },
  {
   "cell_type": "code",
   "execution_count": null,
   "metadata": {},
   "outputs": [],
   "source": [
    "plt.figure(figsize=(8,4),dpi=300)\n",
    "plt.plot(range(10,30),std_scoring[9:30])\n",
    "plt.xlabel('N_estimators in Ensamble model')\n",
    "plt.ylabel('Roc Auc Score Standard Deviation')\n",
    "plt.title('Ensamble Score Deviation')\n",
    "plt.show()"
   ]
  },
  {
   "cell_type": "code",
   "execution_count": null,
   "metadata": {},
   "outputs": [],
   "source": [
    "clf=DecisionTreeClassifier(random_state=42)\n",
    "clf.fit(train_new,y_new)"
   ]
  },
  {
   "cell_type": "code",
   "execution_count": null,
   "metadata": {},
   "outputs": [],
   "source": [
    "rd=RandomForestClassifier(random_state=42,n_jobs=-1,n_estimators=300)\n",
    "rd.fit(train_data,y)\n",
    "columns=list(train)\n",
    "fea_imp=pd.DataFrame({'features':columns,'Feature_importance':rd.feature_importances_})\n",
    "fea_imp=fea_imp.sort_values('Feature_importance',ascending=False).reset_index(drop=True)\n",
    "fea_imp.head(20)"
   ]
  },
  {
   "cell_type": "code",
   "execution_count": null,
   "metadata": {},
   "outputs": [],
   "source": [
    "fe_data=train[list(fea_imp.features)[:20]]\n",
    "fe_data.to_csv('fe_data.csv')\n",
    "\n",
    "fe=std_.fit_transform(fe_data)\n",
    "lg=LogisticRegression(random_state=42,solver='newton-cg')\n",
    "best_clf=GridSearchCV(lg,param_grid={'C':[0.001,0.01,0.1,1]},\n",
    "                      n_jobs=-1,scoring='roc_auc')\n",
    "best_clf.fit(fe,y)\n",
    "print(best_clf.best_params_,best_clf.best_score_)\n",
    "\n",
    "lg=LogisticRegression(random_state=42)\n",
    "best_clf=GridSearchCV(lg,param_grid={'C':[0.001,0.01,0.1,1]},\n",
    "                      n_jobs=-1,scoring='roc_auc')\n",
    "best_clf.fit(train_data,y)\n",
    "print(best_clf.best_params_,best_clf.best_score_)\n",
    "\n",
    "lg=LogisticRegression(random_state=42)\n",
    "train_size,train_score,test_score=learning_curve(lg,train_data,y,train_sizes=np.linspace(0.1,1,20),cv=5,\n",
    "                                                scoring='roc_auc',n_jobs=-1)\n",
    "\n",
    "plt.figure(dpi=300,figsize=(8,4))\n",
    "plt.plot(train_size,np.mean(train_score,axis=1),color='blue',label='train score')\n",
    "plt.plot(train_size,np.mean(test_score,axis=1),color='red',label='test score')\n",
    "plt.legend()\n",
    "plt.title('Learning Curve')\n",
    "\n",
    "y_scores = cross_val_predict(lg, train_data, y, cv=3,\n",
    "                             method=\"decision_function\")\n",
    "if y_scores.ndim == 2:\n",
    "    y_scores = y_scores[:, 1]\n",
    "precisions, recalls, thresholds = precision_recall_curve(y, y_scores)\n",
    "def plot_precision_recall_vs_threshold(precisions, recalls, thresholds):\n",
    "    plt.plot(thresholds, precisions[:-1], \"b--\", label=\"Precision\", linewidth=2)\n",
    "    plt.plot(thresholds, recalls[:-1], \"g-\", label=\"Recall\", linewidth=2)\n",
    "    plt.xlabel(\"Threshold\", fontsize=16)\n",
    "    plt.legend(loc=\"upper right\", fontsize=16)\n",
    "    plt.title('Precision and Recall curve under model Logistic Regression')\n",
    "    plt.ylim([0, 1])\n",
    "\n",
    "plt.figure(figsize=(8, 4),dpi=300)\n",
    "plot_precision_recall_vs_threshold(precisions, recalls, thresholds)\n",
    "plt.ylim([0, 1])\n",
    "plt.show()\n",
    "\n",
    "rd=RandomForestClassifier(random_state=42,n_estimators=300,n_jobs=-1)\n",
    "y_scores = cross_val_predict(rd, train_data, y, cv=3,\n",
    "                             method=\"predict\")\n",
    "if y_scores.ndim == 2:\n",
    "    y_scores = y_scores[:, 1]\n",
    "precisions, recalls, thresholds = precision_recall_curve(y, y_scores)\n",
    "def plot_precision_recall_vs_threshold(precisions, recalls, thresholds):\n",
    "    plt.plot(thresholds, precisions[:-1], \"b--\", label=\"Precision\", linewidth=2)\n",
    "    plt.plot(thresholds, recalls[:-1], \"g-\", label=\"Recall\", linewidth=2)\n",
    "    plt.xlabel(\"Threshold\", fontsize=16)\n",
    "    plt.legend(loc=\"upper right\", fontsize=16)\n",
    "    plt.title('Precision and Recall curve under model Random Forest')\n",
    "    plt.ylim([0, 1])\n",
    "\n",
    "plt.figure(figsize=(8, 4),dpi=300)\n",
    "plot_precision_recall_vs_threshold(precisions, recalls, thresholds)\n",
    "plt.ylim([0, 1])\n",
    "plt.show()\n",
    "\n",
    "fe_data=pd.read_csv('fe_data.csv',index_col=False)\n",
    "fe_train=fe_data.iloc[0:20000,1:]\n",
    "fe_y=y[:20000]\n",
    "\n",
    "fe_train['y']=fe_y\n",
    "fe_train_pos=fe_train.loc[fe_train.y==1,]\n",
    "fe_train_neg=fe_train.loc[fe_train.y==0,]\n",
    "fe_train_pos=fe_train_pos.sample(6000,replace=True)\n",
    "print(fe_train_pos.shape)\n",
    "print(fe_train_neg.shape)\n",
    "\n",
    "fe_train=pd.concat([fe_train_pos,fe_train_neg],axis=0)\n",
    "print(fe_train.shape)\n",
    "y=fe_train['y']\n",
    "fe_train=fe_train.drop('y',axis=1)\n",
    "print(fe_train.shape)\n",
    "print(len(y))\n",
    "std_=StandardScaler()\n",
    "fe_train=std_.fit_transform(fe_train)\n",
    "\n",
    "clf=MLPClassifier(random_state=42)\n",
    "par={'alpha':[0.001,0.01,0.1,1],'activation':['logistic','tanh','relu'],\n",
    "    'solver':['lbfgs','adam'],'hidden_layer_sizes':[(50,20),(40,30),(100,)]}\n",
    "best_clf=GridSearchCV(clf,cv=5,param_grid=par,n_jobs=-1,scoring='roc_auc')\n",
    "best_clf.fit(fe_train,y)\n",
    "\n",
    "\n",
    "best_clf.best_estimator_\n",
    "\n",
    "best_clf.best_score_\n",
    "\n",
    "np.mean(best_clf.cv_results_['mean_test_score'])\n",
    "\n",
    "clf=MLPClassifier(random_state=42,alpha=0.01,activation='tanh',\n",
    "                  solver='lbfgs',max_iter=300,hidden_layer_sizes=(40,30))\n",
    "clf.fit(fe_train,y)"
   ]
  }
 ],
 "metadata": {
  "kernelspec": {
   "display_name": "act",
   "language": "python",
   "name": "act"
  },
  "language_info": {
   "codemirror_mode": {
    "name": "ipython",
    "version": 3
   },
   "file_extension": ".py",
   "mimetype": "text/x-python",
   "name": "python",
   "nbconvert_exporter": "python",
   "pygments_lexer": "ipython3",
   "version": "3.7.4"
  }
 },
 "nbformat": 4,
 "nbformat_minor": 2
}
